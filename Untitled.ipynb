{
 "cells": [
  {
   "cell_type": "code",
   "execution_count": 11,
   "metadata": {},
   "outputs": [
    {
     "name": "stdout",
     "output_type": "stream",
     "text": [
      "p: 1.0 ; sell for: 3990.01 ; make: 5.388815078750881\n",
      "p: 1.01 ; sell for: 4030.01 ; make: 6.445341905287664\n",
      "p: 1.02 ; sell for: 4070.01 ; make: 7.501868731824449\n",
      "p: 1.03 ; sell for: 4110.01 ; make: 8.558395558361234\n",
      "p: 1.04 ; sell for: 4150.01 ; make: 9.614922384898017\n",
      "p: 1.05 ; sell for: 4190.01 ; make: 10.671449211434803\n",
      "p: 1.06 ; sell for: 4230.01 ; make: 11.727976037971587\n",
      "p: 1.07 ; sell for: 4270.01 ; make: 12.78450286450837\n",
      "p: 1.08 ; sell for: 4310.01 ; make: 13.841029691045156\n",
      "p: 1.09 ; sell for: 4350.01 ; make: 14.89755651758194\n",
      "p: 1.1 ; sell for: 4390.01 ; make: 15.954083344118725\n",
      "p: 1.11 ; sell for: 4430.01 ; make: 17.010610170655507\n",
      "p: 1.12 ; sell for: 4470.01 ; make: 18.067136997192293\n",
      "p: 1.1300000000000001 ; sell for: 4510.010000000001 ; make: 19.1236638237291\n",
      "p: 1.1400000000000001 ; sell for: 4550.010000000001 ; make: 20.180190650265885\n",
      "p: 1.1500000000000001 ; sell for: 4590.010000000001 ; make: 21.236717476802667\n",
      "p: 1.16 ; sell for: 4630.01 ; make: 22.293244303339428\n",
      "p: 1.17 ; sell for: 4670.01 ; make: 23.349771129876213\n",
      "p: 1.18 ; sell for: 4710.01 ; make: 24.406297956413\n",
      "p: 1.19 ; sell for: 4750.01 ; make: 25.462824782949784\n",
      "p: 1.2 ; sell for: 4790.01 ; make: 26.51935160948657\n",
      "p: 1.21 ; sell for: 4830.01 ; make: 27.575878436023356\n",
      "p: 1.22 ; sell for: 4870.01 ; make: 28.632405262560134\n",
      "p: 1.23 ; sell for: 4910.01 ; make: 29.68893208909692\n",
      "p: 1.24 ; sell for: 4950.01 ; make: 30.745458915633705\n"
     ]
    }
   ],
   "source": [
    "p = 0.944\n",
    "cost = 9.99 + 4000 * p\n",
    "for new_p in range(100,125):\n",
    "    new_p *= 0.01\n",
    "    sell = 4000 * new_p - 9.99\n",
    "    print(\"p:\",new_p, \"; sell for:\",sell,\"; make:\", (sell-cost)/cost*100)"
   ]
  },
  {
   "cell_type": "code",
   "execution_count": 12,
   "metadata": {},
   "outputs": [
    {
     "data": {
      "text/plain": [
       "3785.99"
      ]
     },
     "execution_count": 12,
     "metadata": {},
     "output_type": "execute_result"
    }
   ],
   "source": [
    "cost"
   ]
  },
  {
   "cell_type": "code",
   "execution_count": null,
   "metadata": {
    "collapsed": true
   },
   "outputs": [],
   "source": []
  }
 ],
 "metadata": {
  "kernelspec": {
   "display_name": "Python 3",
   "language": "python",
   "name": "python3"
  },
  "language_info": {
   "codemirror_mode": {
    "name": "ipython",
    "version": 3
   },
   "file_extension": ".py",
   "mimetype": "text/x-python",
   "name": "python",
   "nbconvert_exporter": "python",
   "pygments_lexer": "ipython3",
   "version": "3.6.3"
  }
 },
 "nbformat": 4,
 "nbformat_minor": 2
}
